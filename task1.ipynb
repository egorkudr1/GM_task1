{
 "cells": [
  {
   "cell_type": "code",
   "execution_count": 487,
   "metadata": {
    "collapsed": false
   },
   "outputs": [],
   "source": [
    "import numpy as np\n",
    "import sys\n",
    "import matplotlib.pylab as plt\n",
    "%matplotlib inline\n",
    "from pylab import rcParams\n",
    "rcParams['figure.figsize'] = 5, 10"
   ]
  },
  {
   "cell_type": "code",
   "execution_count": 227,
   "metadata": {
    "collapsed": false
   },
   "outputs": [],
   "source": [
    "def make_generator_matrix(H):\n",
    "    cH = H.copy()\n",
    "    cH = cH.astype(int)\n",
    "    ind = []\n",
    "    for i in range(cH.shape[1]):\n",
    "        cur_row = len(ind)\n",
    "        nzind = np.nonzero(cH[:, i])[0]\n",
    "        nzind = nzind[nzind >= cur_row]\n",
    "        if nzind.shape[0] == 0:\n",
    "            continue\n",
    "\n",
    "        if nzind[0] > cur_row:\n",
    "            cH[[cur_row, nzind[0]], :] = cH[[nzind[0], cur_row], :]\n",
    "        cH[nzind[1:],:] = np.bitwise_xor(cH[nzind[1:], :], cH[cur_row, :][np.newaxis, :])\n",
    "        ind.append(i)\n",
    "        if len(ind) == cH.shape[0]:\n",
    "            break\n",
    "            \n",
    "    if len(ind) < cH.shape[0]:\n",
    "        raise ValueError('low rank of matrix H')\n",
    "    \n",
    "    for i in range(cH.shape[0] - 1, 0, -1):\n",
    "        nzind = np.nonzero(cH[:i, ind[i]])[0]\n",
    "        if nzind.shape[0] == 0:\n",
    "            continue\n",
    "        cH[nzind, :] = np.bitwise_xor(cH[nzind, :], cH[i, :][np.newaxis, :])\n",
    "        \n",
    "    G = np.zeros((cH.shape[1], cH.shape[1] - cH.shape[0]), dtype=int)\n",
    "    ind_mask= np.in1d(np.arange(cH.shape[1]), ind)\n",
    "    non_ind_mask = np.logical_not(ind_mask)\n",
    "    G[ind_mask] = cH[:, non_ind_mask]\n",
    "    G[non_ind_mask] = np.eye(G.shape[1])\n",
    "    \n",
    "    ind = np.arange(G.shape[0])[non_ind_mask]\n",
    "    return G, ind"
   ]
  },
  {
   "cell_type": "code",
   "execution_count": 736,
   "metadata": {
    "collapsed": false
   },
   "outputs": [],
   "source": [
    "def make_check_matrix(size):\n",
    "    while True:\n",
    "        print(\"just one attempt\")\n",
    "        H = np.zeros(size, dtype=int)\n",
    "        for i in range(H.shape[1]):\n",
    "            ind = np.random.choice(H.shape[0], size=3, replace=False)\n",
    "            H[ind, i] = 1\n",
    "        \n",
    "        for j in range(H.shape[0]):\n",
    "            ind = np.random.choice(H.shape[1], size=3, replace=False)\n",
    "            H[j, ind] = 1\n",
    "#         H = np.random.random(size)\n",
    "#         H = H < q\n",
    "#         H = H.astype(int)  \n",
    "        if (np.sum(H, axis=0) < 2).any():\n",
    "            print(\"bad config\")\n",
    "            continue\n",
    "        if (np.sum(H, axis=1) < 2).any():\n",
    "            print(\"bad config\")\n",
    "            continue\n",
    "        try:\n",
    "            make_generator_matrix(H)\n",
    "        except ValueError:\n",
    "            continue\n",
    "        break\n",
    "    return H"
   ]
  },
  {
   "cell_type": "code",
   "execution_count": 632,
   "metadata": {
    "collapsed": false
   },
   "outputs": [
    {
     "data": {
      "text/plain": [
       "array([1, 2, 3])"
      ]
     },
     "execution_count": 632,
     "metadata": {},
     "output_type": "execute_result"
    }
   ],
   "source": [
    "np.random.choice(5, size=3, replace=False)"
   ]
  },
  {
   "cell_type": "code",
   "execution_count": 679,
   "metadata": {
    "collapsed": true
   },
   "outputs": [],
   "source": [
    "def message_from_factor(H, mu_e_h, i, j, sj):\n",
    "    index = H[j, :].copy().astype(bool)\n",
    "    index[i] = False\n",
    "#     if np.sum(index) == 0:\n",
    "#         return [1/2, 1/2]\n",
    "    dp = mu_e_h[index, j, 0] - mu_e_h[index, j, 1]\n",
    "    dp = np.prod(dp)\n",
    "#     if 1/2 * (1 + dp - 2 * sj * dp) < 0 or 1/2 * (1 - dp + 2 * sj * dp):\n",
    "#         print(sj)\n",
    "#         print(dp)\n",
    "#         raise ValueError(\"big dp\")\n",
    "    return [1/2 * (1 + dp - 2 * sj * dp), 1/2 * (1 - dp + 2 * sj * dp)]\n",
    "    \n",
    "        \n",
    "def message_from_node(H, mu_h_e, i, j, q):\n",
    "    index = H[:, i].copy().astype(bool)\n",
    "    index[j] = False\n",
    "    ans = np.prod(mu_h_e[index, i], axis=0)\n",
    "    ans *= [1 - q, q]\n",
    "    ans /= np.sum(ans)\n",
    "    return ans"
   ]
  },
  {
   "cell_type": "code",
   "execution_count": 719,
   "metadata": {
    "collapsed": false
   },
   "outputs": [],
   "source": [
    "def decode(s, H, q, schedule = 'parallel', damping = 1, max_iter = 300, tol_beliefs = 1e-4, display = False):\n",
    "    mu_e_h = np.ones((H.shape[1], H.shape[0], 2)) \n",
    "    mu_h_e = np.ones((H.shape[0], H.shape[1], 2))\n",
    "    b = np.ones((H.shape[1], 2))\n",
    "    \n",
    "#     mu_e_h[:, :, 1] = q\n",
    "    mu_e_h[:, :, 1] *= 0.5 * q  + 0.5 * np.random.random(mu_e_h.shape[0:2])\n",
    "    mu_e_h[:, :, 0] = 1 - mu_e_h[:, :, 1]\n",
    "    \n",
    "    rate_belief = [] \n",
    "    for it in range(max_iter):\n",
    "        if schedule == 'parallel':\n",
    "            factor_node = np.array(np.nonzero(H)).T\n",
    "            for j, i in factor_node:\n",
    "                mu = message_from_factor(H, mu_e_h, i, j, s[j])\n",
    "                mu_h_e[j, i] = mu * damping + mu_h_e[j, i] * (1 - damping)\n",
    "            \n",
    "            for j, i in factor_node:\n",
    "                mu = message_from_node(H, mu_h_e, i, j, q)\n",
    "                mu_e_h[i, j] = mu * damping + mu_e_h[i, j] * (1 - damping)    \n",
    "        elif schedule == 'sequential':\n",
    "            for i in range(H.shape[1]):\n",
    "                factor_ind = np.nonzero(H[:, i])[0]\n",
    "                for j in factor_ind:\n",
    "                    mu = message_from_factor(H, mu_e_h, i, j, s[j])\n",
    "                    mu_h_e[j, i] = mu * damping + mu_h_e[j, i] * (1 - damping)\n",
    "                \n",
    "                for j in factor_ind:\n",
    "                    mu = message_from_node(H, mu_h_e, i, j, q)\n",
    "                    mu_e_h[i, j] = mu * damping + mu_e_h[i, j] * (1 - damping)\n",
    "        else:\n",
    "            raise ValueError('wrong name of schedule')\n",
    "                    \n",
    "        b_old = b.copy()\n",
    "        copy_mu_h_e = mu_h_e.copy()\n",
    "        copy_mu_h_e[H == 0] = 1\n",
    "        \n",
    "        b =  np.prod(copy_mu_h_e, axis=0)\n",
    "        b[:, 0] *= 1 - q\n",
    "        b[:, 1] *= q\n",
    "        b /= np.sum(b, axis=1)[:, np.newaxis]\n",
    "        \n",
    "        e = np.argmax(b, axis=1)\n",
    "        dist = np.max(np.abs(b - b_old))\n",
    "            \n",
    "        if display:\n",
    "            print(it + 1, \"iteration\", np.mean(np.abs(b - b_old) < tol_beliefs))\n",
    "            sys.stdout.flush()\n",
    "        if np.array_equal(np.dot(H, e) % 2, s):\n",
    "            return e, 0\n",
    "        if dist < tol_beliefs:\n",
    "            return e, 1\n",
    "    return e, 2"
   ]
  },
  {
   "cell_type": "code",
   "execution_count": 730,
   "metadata": {
    "collapsed": true
   },
   "outputs": [],
   "source": [
    "def experiment_decode(s, H, q, schedule = 'parallel', damping = 1, max_iter = 300, tol_beliefs = 1e-4, \n",
    "                      display = False, calc_belief=True):\n",
    "    mu_e_h = np.ones((H.shape[1], H.shape[0], 2)) \n",
    "    mu_h_e = np.ones((H.shape[0], H.shape[1], 2))\n",
    "    b = np.ones((H.shape[1], 2))\n",
    "    \n",
    "#     mu_e_h[:, :, 1] = q\n",
    "    mu_e_h[:, :, 1] *= 0.5 * q  + 0.5 * np.random.random(mu_e_h.shape[0:2])\n",
    "    mu_e_h[:, :, 0] = 1 - mu_e_h[:, :, 1]\n",
    "    \n",
    "    list_belief = []\n",
    "    list_e = []\n",
    "    for it in range(max_iter):\n",
    "        if schedule == 'parallel':\n",
    "            factor_node = np.array(np.nonzero(H)).T\n",
    "            for j, i in factor_node:\n",
    "                mu = message_from_factor(H, mu_e_h, i, j, s[j])\n",
    "                mu_h_e[j, i] = mu * damping + mu_h_e[j, i] * (1 - damping)\n",
    "            \n",
    "            for j, i in factor_node:\n",
    "                mu = message_from_node(H, mu_h_e, i, j, q)\n",
    "                mu_e_h[i, j] = mu * damping + mu_e_h[i, j] * (1 - damping)    \n",
    "        elif schedule == 'sequential':\n",
    "            for i in range(H.shape[1]):\n",
    "                factor_ind = np.nonzero(H[:, i])[0]\n",
    "                for j in factor_ind:\n",
    "                    mu = message_from_factor(H, mu_e_h, i, j, s[j])\n",
    "                    mu_h_e[j, i] = mu * damping + mu_h_e[j, i] * (1 - damping)\n",
    "                \n",
    "                for j in factor_ind:\n",
    "                    mu = message_from_node(H, mu_h_e, i, j, q)\n",
    "                    mu_e_h[i, j] = mu * damping + mu_e_h[i, j] * (1 - damping)\n",
    "        else:\n",
    "            raise ValueError('wrong name of schedule')\n",
    "                    \n",
    "        b_old = b.copy()\n",
    "        copy_mu_h_e = mu_h_e.copy()\n",
    "        copy_mu_h_e[H == 0] = 1\n",
    "        \n",
    "        b =  np.prod(copy_mu_h_e, axis=0)\n",
    "        b[:, 0] *= 1 - q\n",
    "        b[:, 1] *= q\n",
    "        b /= np.sum(b, axis=1)[:, np.newaxis]\n",
    "        \n",
    "        e = np.argmax(b, axis=1)\n",
    "        list_e.append(e)\n",
    "        belief_rate = np.mean(np.abs(b - b_old) < tol_beliefs)\n",
    "        if calc_belief:\n",
    "            list_belief.append(belief_rate)\n",
    "        \n",
    "        if display:\n",
    "            print(it + 1, \"iteration\", belief_rate)\n",
    "            sys.stdout.flush()\n",
    "            \n",
    "        if np.array_equal(np.dot(H, e) % 2, s):\n",
    "            return list_e, 0, list_belief\n",
    "        if np.max(np.abs(b - b_old)) < tol_beliefs:\n",
    "            return list_e, 1, list_belief\n",
    "    return list_e, 2, list_belief"
   ]
  },
  {
   "cell_type": "code",
   "execution_count": 663,
   "metadata": {
    "collapsed": false
   },
   "outputs": [
    {
     "name": "stdout",
     "output_type": "stream",
     "text": [
      "just one attempt\n",
      "[[0 0 0 0 0 0 0 1 1 1 0 1 0 0 1 0 0 0 1 1 0 1 0 0 0]\n",
      " [0 0 0 0 0 0 0 0 1 0 0 1 0 0 0 1 0 0 0 1 0 1 0 0 0]\n",
      " [0 1 1 0 0 0 1 0 0 0 0 0 0 0 0 1 0 1 0 1 1 1 1 0 0]\n",
      " [0 1 1 1 0 1 0 0 0 0 0 0 0 0 0 0 0 0 0 1 0 0 0 0 0]\n",
      " [0 1 0 0 1 1 0 0 0 1 0 1 0 1 1 1 1 0 0 0 0 0 0 0 0]\n",
      " [1 0 0 1 0 0 0 0 1 0 0 1 1 0 0 0 1 0 0 1 1 0 1 1 0]\n",
      " [1 0 0 0 0 0 1 0 1 0 1 0 0 1 0 0 0 0 0 1 1 0 1 0 0]\n",
      " [0 0 0 0 1 0 0 1 0 0 0 0 1 0 0 0 0 1 0 1 0 0 1 0 0]\n",
      " [0 0 0 0 0 0 1 0 0 1 1 0 0 0 0 1 0 1 0 0 1 1 0 0 1]\n",
      " [1 1 0 0 1 0 0 0 0 0 1 0 0 0 0 0 0 0 0 0 0 1 1 0 0]\n",
      " [0 0 1 0 0 1 0 0 1 0 0 0 1 0 1 0 1 0 1 0 0 1 0 1 0]\n",
      " [0 1 1 1 0 1 0 0 0 0 1 0 0 1 0 0 0 0 0 0 0 0 0 1 1]\n",
      " [0 0 0 0 1 0 0 0 0 1 0 1 0 0 1 0 0 0 1 0 0 0 0 0 1]\n",
      " [0 0 1 1 0 1 0 0 0 0 0 0 1 0 0 1 0 0 0 0 0 0 0 0 0]\n",
      " [1 0 0 0 0 0 1 1 0 0 1 1 0 0 0 1 0 0 0 0 0 0 0 0 0]]\n",
      "[[1 0 1 0 1 1 0 1 1 1]\n",
      " [1 0 1 0 0 0 0 1 0 1]\n",
      " [1 0 1 0 1 1 0 0 0 1]\n",
      " [0 1 0 0 0 0 1 1 0 0]\n",
      " [0 0 1 1 0 0 0 0 0 1]\n",
      " [0 1 0 0 0 1 1 0 0 0]\n",
      " [1 0 1 0 0 0 1 0 0 0]\n",
      " [0 0 1 1 0 0 0 0 0 0]\n",
      " [0 0 0 0 1 0 1 0 0 0]\n",
      " [0 0 1 1 1 0 1 1 1 0]\n",
      " [0 0 1 1 1 1 1 1 1 1]\n",
      " [1 0 0 0 0 0 0 0 0 0]\n",
      " [0 0 1 0 1 0 0 1 0 1]\n",
      " [0 0 1 1 0 1 1 1 0 0]\n",
      " [1 0 0 1 1 0 1 1 1 0]\n",
      " [1 0 0 0 0 0 0 0 0 0]\n",
      " [0 1 0 0 0 0 0 0 0 0]\n",
      " [0 0 1 0 0 0 0 0 0 0]\n",
      " [0 0 0 1 0 0 0 0 0 0]\n",
      " [0 0 0 0 1 0 0 0 0 0]\n",
      " [0 0 0 0 0 1 0 0 0 0]\n",
      " [0 0 0 0 0 0 1 0 0 0]\n",
      " [0 0 0 0 0 0 0 1 0 0]\n",
      " [0 0 0 0 0 0 0 0 1 0]\n",
      " [0 0 0 0 0 0 0 0 0 1]]\n",
      "[15 16 17 18 19 20 21 22 23 24]\n",
      "[[0 0 0 0 0 0 0 0 0 0]\n",
      " [0 0 0 0 0 0 0 0 0 0]\n",
      " [0 0 0 0 0 0 0 0 0 0]\n",
      " [0 0 0 0 0 0 0 0 0 0]\n",
      " [0 0 0 0 0 0 0 0 0 0]\n",
      " [0 0 0 0 0 0 0 0 0 0]\n",
      " [0 0 0 0 0 0 0 0 0 0]\n",
      " [0 0 0 0 0 0 0 0 0 0]\n",
      " [0 0 0 0 0 0 0 0 0 0]\n",
      " [0 0 0 0 0 0 0 0 0 0]\n",
      " [0 0 0 0 0 0 0 0 0 0]\n",
      " [0 0 0 0 0 0 0 0 0 0]\n",
      " [0 0 0 0 0 0 0 0 0 0]\n",
      " [0 0 0 0 0 0 0 0 0 0]\n",
      " [0 0 0 0 0 0 0 0 0 0]]\n",
      "[[1 0 0 0 0 0 0 0 0 0]\n",
      " [0 1 0 0 0 0 0 0 0 0]\n",
      " [0 0 1 0 0 0 0 0 0 0]\n",
      " [0 0 0 1 0 0 0 0 0 0]\n",
      " [0 0 0 0 1 0 0 0 0 0]\n",
      " [0 0 0 0 0 1 0 0 0 0]\n",
      " [0 0 0 0 0 0 1 0 0 0]\n",
      " [0 0 0 0 0 0 0 1 0 0]\n",
      " [0 0 0 0 0 0 0 0 1 0]\n",
      " [0 0 0 0 0 0 0 0 0 1]]\n"
     ]
    }
   ],
   "source": [
    "H = make_check_matrix([15, 25])\n",
    "G, ind = make_generator_matrix(H)\n",
    "print(H)\n",
    "print(G)\n",
    "print(ind)\n",
    "print(np.dot(H, G) % 2)\n",
    "print(G[ind, :])"
   ]
  },
  {
   "cell_type": "code",
   "execution_count": 416,
   "metadata": {
    "collapsed": false
   },
   "outputs": [
    {
     "name": "stdout",
     "output_type": "stream",
     "text": [
      "[0 1 0 1 1]\n",
      "[0 0 0 1 1 1 1 0 0 1 0 1 0 1 1]\n",
      "[0 0 0 1 0 1 1 1 0 0 1 1 0 1 1]\n",
      "[0 0 1 1 0 1 0 0 0 0]\n",
      "[False False False False  True False False  True False  True  True False\n",
      " False False False]\n"
     ]
    }
   ],
   "source": [
    "a = np.random.randint(0, 2, G.shape[1])\n",
    "print(a)\n",
    "a_code = np.dot(G, a) % 2\n",
    "\n",
    "q = 0.1\n",
    "index = np.random.random(a_code.shape[0]) < q\n",
    "# index = np.random.randint(0, a_code.shape[0])\n",
    "a_get = a_code.copy()\n",
    "print(a_get)\n",
    "a_get[index] = np.logical_not(a_get[index]).astype(int)\n",
    "print(a_get)\n",
    "s = np.dot(H, a_get) % 2\n",
    "print(s)\n",
    "print(index)"
   ]
  },
  {
   "cell_type": "code",
   "execution_count": 417,
   "metadata": {
    "collapsed": false
   },
   "outputs": [
    {
     "name": "stdout",
     "output_type": "stream",
     "text": [
      "1 iteration 0.999883973964\n",
      "2 iteration 0.583892913485\n",
      "3 iteration 0.397921829791\n",
      "4 iteration 0.46913194585\n",
      "5 iteration 0.419755244305\n",
      "6 iteration 0.258058758454\n",
      "7 iteration 0.143506797754\n",
      "8 iteration 0.215724040574\n",
      "9 iteration 0.151425630608\n",
      "10 iteration 0.0956060333008\n",
      "11 iteration 0.0678655450062\n",
      "12 iteration 0.0711536140981\n",
      "13 iteration 0.0706808088909\n",
      "14 iteration 0.0487482023734\n",
      "15 iteration 0.0362412723905\n",
      "16 iteration 0.0287203232277\n",
      "17 iteration 0.0325403058941\n",
      "18 iteration 0.023217358641\n",
      "19 iteration 0.0157075501723\n",
      "20 iteration 0.0144348949765\n",
      "21 iteration 0.0131744548012\n",
      "22 iteration 0.0108992719687\n",
      "23 iteration 0.0086497634403\n",
      "24 iteration 0.00668248227664\n",
      "25 iteration 0.00592548993415\n",
      "26 iteration 0.00534332995361\n",
      "27 iteration 0.00414598538552\n",
      "28 iteration 0.00326418019472\n",
      "29 iteration 0.00286352761189\n",
      "30 iteration 0.00243705573619\n",
      "31 iteration 0.00200357058612\n",
      "32 iteration 0.00163522018299\n",
      "33 iteration 0.00133828312319\n",
      "34 iteration 0.00114579513602\n",
      "35 iteration 0.000971684445337\n",
      "36 iteration 0.000782455687054\n",
      "37 iteration 0.000644363477496\n",
      "38 iteration 0.000548097573962\n",
      "39 iteration 0.000457430522933\n",
      "40 iteration 0.000377818281312\n",
      "41 iteration 0.000312375938467\n",
      "42 iteration 0.000259196343888\n",
      "43 iteration 0.000218085179535\n",
      "44 iteration 0.000181885182854\n",
      "45 iteration 0.000149375949631\n",
      "46 iteration 0.000124261297107\n",
      "47 iteration 0.00010422393512\n",
      "48 iteration 8.66077803824e-05\n",
      "[0 0 0 0 1 0 0 0 0 0 0 0 1 0 0]\n",
      "1\n",
      "[0 0 0 1 1 1 1 1 0 0 1 1 1 1 1] [0 0 1 1 1]\n",
      "[0 0 0 1 1 1 1 0 0 1 0 1 0 1 1] [0 1 0 1 1]\n"
     ]
    }
   ],
   "source": [
    "e, status = decode(s, H, q, schedule='sequential', display=True)\n",
    "print(e)\n",
    "print(status)\n",
    "print((e + a_get) % 2, ((e + a_get) % 2)[ind])\n",
    "print(a_code % 2, (a_code % 2)[ind])"
   ]
  },
  {
   "cell_type": "code",
   "execution_count": 426,
   "metadata": {
    "collapsed": false
   },
   "outputs": [],
   "source": [
    "from sklearn.datasets import fetch_mldata\n",
    "mnist = fetch_mldata('MNIST original', data_home='/home/george/Documents/GM/').data"
   ]
  },
  {
   "cell_type": "code",
   "execution_count": 438,
   "metadata": {
    "collapsed": false
   },
   "outputs": [],
   "source": [
    "side = int(np.sqrt(mnist.shape[1]))\n",
    "pic = mnist[20000].reshape(side, side)\n",
    "pic = (pic>0).astype(int).ravel()\n",
    "# plt.imshow(pic)"
   ]
  },
  {
   "cell_type": "code",
   "execution_count": 453,
   "metadata": {
    "collapsed": false
   },
   "outputs": [
    {
     "name": "stdout",
     "output_type": "stream",
     "text": [
      "int64\n",
      "int64\n"
     ]
    }
   ],
   "source": [
    "print(pic.dtype)\n",
    "print(new_pic.dtype)"
   ]
  },
  {
   "cell_type": "code",
   "execution_count": 460,
   "metadata": {
    "collapsed": false
   },
   "outputs": [
    {
     "data": {
      "image/png": "[encoded data removed]",
      "text/plain": [
       "<matplotlib.figure.Figure at 0x7ff0b3a756a0>"
      ]
     },
     "metadata": {},
     "output_type": "display_data"
    }
   ],
   "source": [
    "plt.imshow(pic.reshape(side, side))\n",
    "plt.show()\n"
   ]
  },
  {
   "cell_type": "code",
   "execution_count": 482,
   "metadata": {
    "collapsed": false
   },
   "outputs": [],
   "source": [
    "k = pic.shape[0]\n",
    "n = 5 * k\n",
    "m = 4 * k"
   ]
  },
  {
   "cell_type": "code",
   "execution_count": null,
   "metadata": {
    "collapsed": true
   },
   "outputs": [],
   "source": []
  },
  {
   "cell_type": "code",
   "execution_count": 687,
   "metadata": {
    "collapsed": false
   },
   "outputs": [
    {
     "name": "stdout",
     "output_type": "stream",
     "text": [
      "just one attempt\n"
     ]
    }
   ],
   "source": [
    "H = make_check_matrix([m, n])\n",
    "G, ind = make_generator_matrix(H)"
   ]
  },
  {
   "cell_type": "code",
   "execution_count": 688,
   "metadata": {
    "collapsed": false
   },
   "outputs": [
    {
     "data": {
      "text/plain": [
       "5.3984693877551022"
      ]
     },
     "execution_count": 688,
     "metadata": {},
     "output_type": "execute_result"
    }
   ],
   "source": [
    "np.sum(H)/H.shape[1]"
   ]
  },
  {
   "cell_type": "code",
   "execution_count": 689,
   "metadata": {
    "collapsed": false
   },
   "outputs": [],
   "source": [
    "pic_code = np.dot(G, pic) % 2"
   ]
  },
  {
   "cell_type": "code",
   "execution_count": 690,
   "metadata": {
    "collapsed": false
   },
   "outputs": [
    {
     "data": {
      "text/plain": [
       "<matplotlib.image.AxesImage at 0x7ff0b0aed9b0>"
      ]
     },
     "execution_count": 690,
     "metadata": {},
     "output_type": "execute_result"
    },
    {
     "data": {
      "image/png": "[encoded data removed]",
      "text/plain": [
       "<matplotlib.figure.Figure at 0x7ff0b10a3320>"
      ]
     },
     "metadata": {},
     "output_type": "display_data"
    }
   ],
   "source": [
    "plt.imshow(pic_code.reshape(-1, side))"
   ]
  },
  {
   "cell_type": "code",
   "execution_count": 728,
   "metadata": {
    "collapsed": false
   },
   "outputs": [
    {
     "data": {
      "text/plain": [
       "<matplotlib.image.AxesImage at 0x7ff0b081dd68>"
      ]
     },
     "execution_count": 728,
     "metadata": {},
     "output_type": "execute_result"
    },
    {
     "data": {
      "image/png": "[encoded data removed]",
      "text/plain": [
       "<matplotlib.figure.Figure at 0x7ff0b079aa20>"
      ]
     },
     "metadata": {},
     "output_type": "display_data"
    }
   ],
   "source": [
    "q = 0.1\n",
    "get_pic = (pic_code + (np.random.random(pic_code.shape) < q).astype(int)) % 2\n",
    "plt.imshow(get_pic.reshape(-1, side))"
   ]
  },
  {
   "cell_type": "code",
   "execution_count": 548,
   "metadata": {
    "collapsed": false
   },
   "outputs": [],
   "source": [
    "def pass_ability_channel(q):\n",
    "    return 1 + q * np.log(q) + (1 - q) * np.log(1 - q)\n",
    "pass_ability_channel(0.02)"
   ]
  },
  {
   "cell_type": "code",
   "execution_count": 714,
   "metadata": {
    "collapsed": false
   },
   "outputs": [
    {
     "data": {
      "text/plain": [
       "True"
      ]
     },
     "execution_count": 714,
     "metadata": {},
     "output_type": "execute_result"
    }
   ],
   "source": [
    "np.equal(pic_code, (get_pic + e) % 2).all()"
   ]
  },
  {
   "cell_type": "code",
   "execution_count": 729,
   "metadata": {
    "collapsed": false
   },
   "outputs": [
    {
     "name": "stdout",
     "output_type": "stream",
     "text": [
      "1 iteration 0.0140306122449\n",
      "2 iteration 0.0272959183673\n",
      "3 iteration 0.292091836735\n",
      "4 iteration 0.632142857143\n",
      "5 iteration 0.928316326531\n",
      "0\n"
     ]
    }
   ],
   "source": [
    "s  = np.dot(H, get_pic) % 2\n",
    "e, status = decode(s, H, 0.03, max_iter=25, schedule='sequential', display=True)\n",
    "print(status)"
   ]
  },
  {
   "cell_type": "code",
   "execution_count": 731,
   "metadata": {
    "collapsed": false
   },
   "outputs": [
    {
     "name": "stdout",
     "output_type": "stream",
     "text": [
      "1 iteration 0.0168367346939\n",
      "2 iteration 0.030612244898\n",
      "3 iteration 0.285714285714\n",
      "4 iteration 0.580867346939\n",
      "5 iteration 0.886479591837\n",
      "6 iteration 0.997193877551\n"
     ]
    }
   ],
   "source": [
    "s = np.dot(H, get_pic) % 2\n",
    "list_e, status, list_belief =  experiment_decode(s, H, 0.03, max_iter=25, schedule='sequential', display=True)"
   ]
  },
  {
   "cell_type": "code",
   "execution_count": 732,
   "metadata": {
    "collapsed": false
   },
   "outputs": [
    {
     "data": {
      "image/png": "[encoded data removed]",
      "text/plain": [
       "<matplotlib.figure.Figure at 0x7ff0b0e54828>"
      ]
     },
     "metadata": {},
     "output_type": "display_data"
    }
   ],
   "source": [
    "fig, a = plt.subplots(nrows=1, ncols=len(list_e) + 1)\n",
    "fig.subplots_adjust(right=2.0)\n",
    "\n",
    "a[0].imshow(get_pic.reshape(-1, side), cmap='gray', vmin=0, vmax=1, interpolation='nearest')\n",
    "a[0].set_title(\"message after  transfer\")\n",
    "a[0].axis('off')\n",
    "for i, e in enumerate(list_e):\n",
    "    a[i + 1].imshow(((get_pic + list_e[i]) % 2).reshape(-1, side),cmap='gray', \n",
    "                    vmin=0, vmax=1, interpolation='nearest')\n",
    "    a[i + 1].set_title(\"iteration \" +str(i + 1))\n",
    "    a[i + 1].axis('off')\n",
    "# plt.imshow( ((get_pic + list_e[2]) % 2).reshape(-1, side))"
   ]
  },
  {
   "cell_type": "markdown",
   "metadata": {},
   "source": [
    "## Пункт 3"
   ]
  },
  {
   "cell_type": "code",
   "execution_count": 735,
   "metadata": {
    "collapsed": false
   },
   "outputs": [
    {
     "data": {
      "text/plain": [
       "784"
      ]
     },
     "execution_count": 735,
     "metadata": {},
     "output_type": "execute_result"
    }
   ],
   "source": [
    "k"
   ]
  },
  {
   "cell_type": "code",
   "execution_count": null,
   "metadata": {
    "collapsed": true
   },
   "outputs": [],
   "source": [
    "def point3(n, k, q, num_iter,  schedule, list_damping, max_iter):\n",
    "    rate_belief = np.zeros((len(list_damping)))\n",
    "    m = n - k\n",
    "    H = make_check_matrix([m, n])\n",
    "    G, ind = make_generator_matrix(H)\n",
    "    \n",
    "    \n",
    "    \n",
    "    for it in range(num_iter):\n",
    "        word = np.random.ranint(0, 2, size=k)\n",
    "        message = np.dot(G, word)\n",
    "        get_message = (message + (np.random.random(message.shape) < q).astype(int)) % 2\n",
    "        s  = np.dot(H, get_message) % 2\n",
    "        \n",
    "        for i, damping in enumerate(list_damping):\n",
    "            list_e, status, list_belief = experiment_decode(s, H, q, max_iter=25, schedule=schedule)\n",
    "        \n",
    "    "
   ]
  },
  {
   "cell_type": "code",
   "execution_count": 332,
   "metadata": {
    "collapsed": false
   },
   "outputs": [
    {
     "data": {
      "text/plain": [
       "array([0, 0, 0, 0, 0, 0, 0])"
      ]
     },
     "execution_count": 332,
     "metadata": {},
     "output_type": "execute_result"
    }
   ],
   "source": [
    "np.dot(H, e + a_get) % 2"
   ]
  },
  {
   "cell_type": "code",
   "execution_count": 333,
   "metadata": {
    "collapsed": false
   },
   "outputs": [
    {
     "data": {
      "text/plain": [
       "array([0, 0, 0, 0, 0, 0, 0])"
      ]
     },
     "execution_count": 333,
     "metadata": {},
     "output_type": "execute_result"
    }
   ],
   "source": [
    "np.dot(H, a_code) % 2"
   ]
  },
  {
   "cell_type": "code",
   "execution_count": 359,
   "metadata": {
    "collapsed": false
   },
   "outputs": [
    {
     "name": "stdout",
     "output_type": "stream",
     "text": [
      "[1 1 0 0 1 1 1 0 1 1 0 0 0 0 1] [1 1 0 0 1]\n",
      "[1 1 0 0 1 1 1 0 1 1 0 0 0 0 1] [1 1 0 0 1]\n"
     ]
    }
   ],
   "source": []
  },
  {
   "cell_type": "code",
   "execution_count": 267,
   "metadata": {
    "collapsed": false
   },
   "outputs": [],
   "source": [
    "mu_e_h = np.ones((H.shape[1], H.shape[0], 2)) \n",
    "mu_h_e = np.ones((H.shape[0], H.shape[1], 2))\n",
    "b = np.ones((H.shape[1], 2))\n",
    "\n",
    "mu_e_h[:, :, 1] = q\n",
    "mu_e_h[:, :, 1] *= 0.5 * q  + 0.5 * np.random.random(mu_e_h.shape[0:2])\n",
    "mu_e_h[:, :, 0] *= 1 - mu_e_h[:, :, 1]"
   ]
  },
  {
   "cell_type": "code",
   "execution_count": 268,
   "metadata": {
    "collapsed": false
   },
   "outputs": [
    {
     "data": {
      "text/plain": [
       "array([[[ 0.97925379,  0.02074621],\n",
       "        [ 0.99423137,  0.00576863],\n",
       "        [ 0.96532368,  0.03467632],\n",
       "        [ 0.98406498,  0.01593502],\n",
       "        [ 0.94700574,  0.05299426],\n",
       "        [ 0.9569488 ,  0.0430512 ],\n",
       "        [ 0.94585431,  0.05414569]],\n",
       "\n",
       "       [[ 0.96564415,  0.03435585],\n",
       "        [ 0.98588613,  0.01411387],\n",
       "        [ 0.98332086,  0.01667914],\n",
       "        [ 0.98929791,  0.01070209],\n",
       "        [ 0.99349409,  0.00650591],\n",
       "        [ 0.96753875,  0.03246125],\n",
       "        [ 0.95650721,  0.04349279]],\n",
       "\n",
       "       [[ 0.95501598,  0.04498402],\n",
       "        [ 0.95855298,  0.04144702],\n",
       "        [ 0.95131673,  0.04868327],\n",
       "        [ 0.94672379,  0.05327621],\n",
       "        [ 0.94512225,  0.05487775],\n",
       "        [ 0.9520082 ,  0.0479918 ],\n",
       "        [ 0.99461351,  0.00538649]],\n",
       "\n",
       "       [[ 0.95661067,  0.04338933],\n",
       "        [ 0.96484433,  0.03515567],\n",
       "        [ 0.9515073 ,  0.0484927 ],\n",
       "        [ 0.95947959,  0.04052041],\n",
       "        [ 0.98725597,  0.01274403],\n",
       "        [ 0.95703926,  0.04296074],\n",
       "        [ 0.98554276,  0.01445724]],\n",
       "\n",
       "       [[ 0.97565245,  0.02434755],\n",
       "        [ 0.98353423,  0.01646577],\n",
       "        [ 0.95061016,  0.04938984],\n",
       "        [ 0.96625311,  0.03374689],\n",
       "        [ 0.96056483,  0.03943517],\n",
       "        [ 0.9540487 ,  0.0459513 ],\n",
       "        [ 0.97666422,  0.02333578]],\n",
       "\n",
       "       [[ 0.99409891,  0.00590109],\n",
       "        [ 0.99356429,  0.00643571],\n",
       "        [ 0.97050602,  0.02949398],\n",
       "        [ 0.98829831,  0.01170169],\n",
       "        [ 0.97940213,  0.02059787],\n",
       "        [ 0.96494415,  0.03505585],\n",
       "        [ 0.9852893 ,  0.0147107 ]],\n",
       "\n",
       "       [[ 0.97675443,  0.02324557],\n",
       "        [ 0.95821386,  0.04178614],\n",
       "        [ 0.96229294,  0.03770706],\n",
       "        [ 0.96894253,  0.03105747],\n",
       "        [ 0.96753024,  0.03246976],\n",
       "        [ 0.98304747,  0.01695253],\n",
       "        [ 0.99494078,  0.00505922]],\n",
       "\n",
       "       [[ 0.96776441,  0.03223559],\n",
       "        [ 0.98170523,  0.01829477],\n",
       "        [ 0.9628784 ,  0.0371216 ],\n",
       "        [ 0.98987989,  0.01012011],\n",
       "        [ 0.96408289,  0.03591711],\n",
       "        [ 0.95934131,  0.04065869],\n",
       "        [ 0.98281326,  0.01718674]],\n",
       "\n",
       "       [[ 0.96181229,  0.03818771],\n",
       "        [ 0.96059734,  0.03940266],\n",
       "        [ 0.95040935,  0.04959065],\n",
       "        [ 0.95480044,  0.04519956],\n",
       "        [ 0.97530252,  0.02469748],\n",
       "        [ 0.99025591,  0.00974409],\n",
       "        [ 0.98864038,  0.01135962]],\n",
       "\n",
       "       [[ 0.98359237,  0.01640763],\n",
       "        [ 0.99015382,  0.00984618],\n",
       "        [ 0.97602606,  0.02397394],\n",
       "        [ 0.9773437 ,  0.0226563 ],\n",
       "        [ 0.98655575,  0.01344425],\n",
       "        [ 0.97481613,  0.02518387],\n",
       "        [ 0.95929921,  0.04070079]],\n",
       "\n",
       "       [[ 0.96737974,  0.03262026],\n",
       "        [ 0.9652373 ,  0.0347627 ],\n",
       "        [ 0.96029246,  0.03970754],\n",
       "        [ 0.95861294,  0.04138706],\n",
       "        [ 0.95597801,  0.04402199],\n",
       "        [ 0.9659103 ,  0.0340897 ],\n",
       "        [ 0.96532485,  0.03467515]],\n",
       "\n",
       "       [[ 0.96456721,  0.03543279],\n",
       "        [ 0.99225114,  0.00774886],\n",
       "        [ 0.97513334,  0.02486666],\n",
       "        [ 0.95186544,  0.04813456],\n",
       "        [ 0.95372009,  0.04627991],\n",
       "        [ 0.98628759,  0.01371241],\n",
       "        [ 0.99421422,  0.00578578]],\n",
       "\n",
       "       [[ 0.97609287,  0.02390713],\n",
       "        [ 0.96987626,  0.03012374],\n",
       "        [ 0.96672211,  0.03327789],\n",
       "        [ 0.98583272,  0.01416728],\n",
       "        [ 0.96543095,  0.03456905],\n",
       "        [ 0.96836122,  0.03163878],\n",
       "        [ 0.98694118,  0.01305882]],\n",
       "\n",
       "       [[ 0.94830567,  0.05169433],\n",
       "        [ 0.98987284,  0.01012716],\n",
       "        [ 0.98117839,  0.01882161],\n",
       "        [ 0.94846192,  0.05153808],\n",
       "        [ 0.95800446,  0.04199554],\n",
       "        [ 0.96808455,  0.03191545],\n",
       "        [ 0.98144702,  0.01855298]],\n",
       "\n",
       "       [[ 0.9881974 ,  0.0118026 ],\n",
       "        [ 0.98311742,  0.01688258],\n",
       "        [ 0.96755382,  0.03244618],\n",
       "        [ 0.96841815,  0.03158185],\n",
       "        [ 0.96054509,  0.03945491],\n",
       "        [ 0.95553043,  0.04446957],\n",
       "        [ 0.99112126,  0.00887874]]])"
      ]
     },
     "execution_count": 268,
     "metadata": {},
     "output_type": "execute_result"
    }
   ],
   "source": [
    "mu_e_h"
   ]
  },
  {
   "cell_type": "code",
   "execution_count": 196,
   "metadata": {
    "collapsed": false
   },
   "outputs": [],
   "source": [
    "mu_h_e, mu_e_h = decode(s, H, q)"
   ]
  },
  {
   "cell_type": "code",
   "execution_count": 171,
   "metadata": {
    "collapsed": false
   },
   "outputs": [
    {
     "data": {
      "text/plain": [
       "array([ 0.55007017,  0.44992983])"
      ]
     },
     "execution_count": 171,
     "metadata": {},
     "output_type": "execute_result"
    }
   ],
   "source": [
    "mu_e_h[3, 1]"
   ]
  },
  {
   "cell_type": "code",
   "execution_count": 245,
   "metadata": {
    "collapsed": false
   },
   "outputs": [
    {
     "data": {
      "text/plain": [
       "array([0, 0, 0, 0, 0, 0, 0, 0, 0, 0, 0, 0, 0, 0, 0])"
      ]
     },
     "execution_count": 245,
     "metadata": {},
     "output_type": "execute_result"
    }
   ],
   "source": [
    "e"
   ]
  },
  {
   "cell_type": "code",
   "execution_count": 241,
   "metadata": {
    "collapsed": false
   },
   "outputs": [
    {
     "data": {
      "text/plain": [
       "1"
      ]
     },
     "execution_count": 241,
     "metadata": {},
     "output_type": "execute_result"
    }
   ],
   "source": [
    "status"
   ]
  },
  {
   "cell_type": "code",
   "execution_count": 148,
   "metadata": {
    "collapsed": false
   },
   "outputs": [
    {
     "data": {
      "text/plain": [
       "0"
      ]
     },
     "execution_count": 148,
     "metadata": {},
     "output_type": "execute_result"
    }
   ],
   "source": [
    "status"
   ]
  },
  {
   "cell_type": "code",
   "execution_count": 142,
   "metadata": {
    "collapsed": false
   },
   "outputs": [
    {
     "name": "stdout",
     "output_type": "stream",
     "text": [
      "[[ True  True  True]\n",
      " [ True  True  True]\n",
      " [ True  True  True]\n",
      " [ True  True  True]\n",
      " [ True  True  True]]\n"
     ]
    }
   ],
   "source": [
    "a = np.ones((5,3))\n",
    "b = np.ones((5, 3))\n",
    "print(np.equal(a, b))"
   ]
  },
  {
   "cell_type": "code",
   "execution_count": 132,
   "metadata": {
    "collapsed": false
   },
   "outputs": [
    {
     "name": "stdout",
     "output_type": "stream",
     "text": [
      "[ 0.13588154  0.86411846]\n"
     ]
    }
   ],
   "source": [
    "c = 5 * np.random.random((5, 5, 2))\n",
    "c /= np.sum(c, axis=2)[:, :, np.newaxis]\n",
    "print(c[2, 1])"
   ]
  },
  {
   "cell_type": "code",
   "execution_count": 96,
   "metadata": {
    "collapsed": true
   },
   "outputs": [],
   "source": [
    "s = np.dot(H, a_get)"
   ]
  },
  {
   "cell_type": "code",
   "execution_count": 95,
   "metadata": {
    "collapsed": false
   },
   "outputs": [
    {
     "data": {
      "text/plain": [
       "array([False, False, False, False,  True, False, False, False, False], dtype=bool)"
      ]
     },
     "execution_count": 95,
     "metadata": {},
     "output_type": "execute_result"
    }
   ],
   "source": [
    "index"
   ]
  },
  {
   "cell_type": "code",
   "execution_count": 56,
   "metadata": {
    "collapsed": false
   },
   "outputs": [
    {
     "name": "stdout",
     "output_type": "stream",
     "text": [
      "[1 0 1 0 0]\n"
     ]
    },
    {
     "data": {
      "text/plain": [
       "array([False,  True, False,  True,  True], dtype=bool)"
      ]
     },
     "execution_count": 56,
     "metadata": {},
     "output_type": "execute_result"
    }
   ],
   "source": [
    "print(a)\n",
    "np.logical_not(a)"
   ]
  },
  {
   "cell_type": "code",
   "execution_count": 177,
   "metadata": {
    "collapsed": false
   },
   "outputs": [
    {
     "data": {
      "text/plain": [
       "array([[0, 1, 0, 0, 0, 0, 0, 0, 0],\n",
       "       [0, 1, 0, 0, 1, 1, 0, 0, 1],\n",
       "       [0, 0, 0, 0, 0, 0, 1, 0, 0],\n",
       "       [0, 0, 0, 0, 1, 0, 1, 0, 1],\n",
       "       [1, 0, 1, 0, 0, 0, 0, 0, 0]])"
      ]
     },
     "execution_count": 177,
     "metadata": {},
     "output_type": "execute_result"
    }
   ],
   "source": [
    "H"
   ]
  },
  {
   "cell_type": "code",
   "execution_count": 30,
   "metadata": {
    "collapsed": false
   },
   "outputs": [
    {
     "name": "stdout",
     "output_type": "stream",
     "text": [
      "[1 0 0]\n"
     ]
    }
   ],
   "source": [
    "a = np.array([\n",
    "        [1, 2, 3],\n",
    "        [2, 1, 0]\n",
    "    ])\n",
    "print(np.argmax(a, axis=0))"
   ]
  },
  {
   "cell_type": "code",
   "execution_count": 28,
   "metadata": {
    "collapsed": false
   },
   "outputs": [
    {
     "name": "stdout",
     "output_type": "stream",
     "text": [
      "[[0 0 0 0 0]\n",
      " [0 0 0 0 0]\n",
      " [0 1 1 1 1]]\n",
      "2 1\n",
      "2 2\n",
      "2 3\n",
      "2 4\n"
     ]
    }
   ],
   "source": [
    "H = np.array([[0, 0, 0, 0, 1],\n",
    "       [1, 0, 1, 1, 0],\n",
    "       [0, 1, 1, 1, 1]])\n",
    "H[H[:,1]== 0] = 0\n",
    "print(H)\n",
    "for i,j in np.array(np.nonzero(H)).T:\n",
    "    print(i, j)"
   ]
  },
  {
   "cell_type": "code",
   "execution_count": 79,
   "metadata": {
    "collapsed": false
   },
   "outputs": [
    {
     "data": {
      "text/plain": [
       "array([False], dtype=bool)"
      ]
     },
     "execution_count": 79,
     "metadata": {},
     "output_type": "execute_result"
    }
   ],
   "source": [
    "np.in1d(7, np.array([1, 3]))"
   ]
  },
  {
   "cell_type": "code",
   "execution_count": 19,
   "metadata": {
    "collapsed": true
   },
   "outputs": [],
   "source": [
    "H = np.array([\n",
    "        [1, 1, 0, 1, 1],\n",
    "        [0, 0, 0, 1, 0],\n",
    "        [1, 1, 1, 0, 0]\n",
    "    ], dtype=int)"
   ]
  },
  {
   "cell_type": "code",
   "execution_count": 39,
   "metadata": {
    "collapsed": false
   },
   "outputs": [
    {
     "data": {
      "text/plain": [
       "array([[1, 1, 0, 1, 1],\n",
       "       [0, 0, 0, 1, 0]])"
      ]
     },
     "execution_count": 39,
     "metadata": {},
     "output_type": "execute_result"
    }
   ],
   "source": [
    "H[0:2]"
   ]
  },
  {
   "cell_type": "code",
   "execution_count": 111,
   "metadata": {
    "collapsed": false
   },
   "outputs": [
    {
     "name": "stdout",
     "output_type": "stream",
     "text": [
      "[[1 1]\n",
      " [1 0]\n",
      " [0 1]\n",
      " [0 0]\n",
      " [0 1]]\n",
      "[0, 2, 3]\n",
      "[[0 0]\n",
      " [0 0]\n",
      " [0 0]]\n"
     ]
    }
   ],
   "source": [
    "G, ind = make_generator_matrix(H)\n",
    "print(G)\n",
    "print(ind)\n",
    "print(np.dot(H, G) % 2 )"
   ]
  },
  {
   "cell_type": "code",
   "execution_count": 57,
   "metadata": {
    "collapsed": false
   },
   "outputs": [
    {
     "name": "stdout",
     "output_type": "stream",
     "text": [
      "[[1 1 0 0 1]\n",
      " [0 0 1 0 1]\n",
      " [0 0 1 1 1]]\n",
      "[0, 2, 3]\n"
     ]
    }
   ],
   "source": [
    "print(G)\n",
    "print(ind)"
   ]
  },
  {
   "cell_type": "code",
   "execution_count": 3,
   "metadata": {
    "collapsed": false
   },
   "outputs": [
    {
     "name": "stdout",
     "output_type": "stream",
     "text": [
      "(array([3]),)\n"
     ]
    }
   ],
   "source": [
    "a = np.array([0,0,0,1])\n",
    "print(np.nonzero(a))"
   ]
  },
  {
   "cell_type": "code",
   "execution_count": 37,
   "metadata": {
    "collapsed": false
   },
   "outputs": [
    {
     "name": "stdout",
     "output_type": "stream",
     "text": [
      "5\n",
      "4\n",
      "3\n",
      "2\n",
      "1\n"
     ]
    }
   ],
   "source": [
    "a = np.arange(10)\n",
    "for i in range(5, 0, -1):\n",
    "    print(i)"
   ]
  }
 ],
 "metadata": {
  "kernelspec": {
   "display_name": "Python 3",
   "language": "python",
   "name": "python3"
  },
  "language_info": {
   "codemirror_mode": {
    "name": "ipython",
    "version": 3
   },
   "file_extension": ".py",
   "mimetype": "text/x-python",
   "name": "python",
   "nbconvert_exporter": "python",
   "pygments_lexer": "ipython3",
   "version": "3.4.3"
  }
 },
 "nbformat": 4,
 "nbformat_minor": 0
}
